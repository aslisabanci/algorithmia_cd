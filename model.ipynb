{
 "cells": [
  {
   "cell_type": "markdown",
   "metadata": {},
   "source": [
    "# Template Model Development Notebook"
   ]
  },
  {
   "cell_type": "markdown",
   "metadata": {},
   "source": [
    "## 1. Train, evaluate and test your ML model\n",
    "First train, evaluate and test your model as usual."
   ]
  },
  {
   "cell_type": "code",
   "execution_count": 1,
   "metadata": {},
   "outputs": [],
   "source": [
    "# Import Python packages, make sure your requirements.txt contains them!\n",
    "# Use your train/test data\n",
    "# Create your model object\n",
    "# Do train/eval/test as usual"
   ]
  },
  {
   "cell_type": "markdown",
   "metadata": {},
   "source": [
    "## 2. Save your model object to a file\n",
    "When your model is ready, save it locally. \n",
    "\n",
    "Default expected model name by the automated deploy workflow is `model.pkl` If you prefer another name, make sure to put it in your `./github/workflows/algorithmia_deploy.yml` \n",
    "\n",
    "The Github Action will then take this model file from this path and upload it to Algorithmia. You do not need to check-in your model file to this repository. This notebook will be executed on a Github worker machine and the Github Action workplace will take it from there. \n",
    "\n",
    "An example would be as below:"
   ]
  },
  {
   "cell_type": "code",
   "execution_count": null,
   "metadata": {},
   "outputs": [],
   "source": [
    "joblib.dump(model, \"model.pkl\", compress=True)"
   ]
  },
  {
   "cell_type": "markdown",
   "metadata": {},
   "source": [
    "## 3. Test your inference notebook/script, ie. your Algorithm code\n",
    "Depending on what you prefer, you can do this in two ways:\n",
    "\n",
    "### 1. Coding in `YOUR_ALGORITHM_NAME.ipynb`\n",
    "\n",
    "If you prefer to write your algorithm code in `YOUR_ALGORITHM_NAME.ipynb`, first convert it to a .py file as shown in the cell below, before you test it in the following cell."
   ]
  },
  {
   "cell_type": "code",
   "execution_count": null,
   "metadata": {
    "tags": []
   },
   "outputs": [],
   "source": [
    "!jupyter nbconvert --to script YOUR_ALGORITHM_NAME.ipynb"
   ]
  },
  {
   "source": [
    "### 2. Coding in `YOUR_ALGORITHM_NAME.py`\n",
    "\n",
    "If you prefer working directly on .py files, you can write your algorithm code directly in  YOUR_ALGORITHM_NAME.py file too."
   ],
   "cell_type": "markdown",
   "metadata": {}
  },
  {
   "source": [
    "### IMPORTANT!\n",
    "If the Github Action finds a `YOUR_ALGORITHM_NAME.py` file in your repo, it will prioritize it and copy this one over to your Algorithmia repository, instead of converting the .ipynb to a .py file. The reason behind this rationale is the possibility that you may have already done this conversion yourself and made edits on your resulting .py file. "
   ],
   "cell_type": "markdown",
   "metadata": {}
  },
  {
   "source": [
    "### Testing the algorithm script locally\n",
    "Whichever method you choose, you'll have your `YOUR_ALGORITHM_NAME.py` file at this point. Now you can call it and test locally.\n",
    "\n",
    "When you run your algorithm .py file as below, the script will begin its execution through its `if __name__ == \"__main__\"` line. Make sure that your code executes fine and your algorithm is ready to be pushed to Algorithmia.\n"
   ],
   "cell_type": "markdown",
   "metadata": {}
  },
  {
   "cell_type": "code",
   "execution_count": null,
   "metadata": {},
   "outputs": [],
   "source": [
    "!python3 YOUR_ALGORITHM_NAME.py"
   ]
  },
  {
   "cell_type": "markdown",
   "metadata": {},
   "source": [
    "## Final checks before committing this notebook\n",
    "\n",
    "- Once you are happy with your tests, you can remove the `if __name__ == \"__main__\"` snippet from your algorithm script. Remember that all of its contents will be pushed to Algorithmia. Don't stress though, you can always edit!\n",
    "\n",
    "- Make sure that you do not commit/push your Algorithmia API Key!"
   ]
  }
 ],
 "metadata": {
  "kernelspec": {
   "display_name": "Python 3",
   "language": "python",
   "name": "python3"
  },
  "language_info": {
   "codemirror_mode": {
    "name": "ipython",
    "version": 3
   },
   "file_extension": ".py",
   "mimetype": "text/x-python",
   "name": "python",
   "nbconvert_exporter": "python",
   "pygments_lexer": "ipython3",
   "version": "3.8.3-final"
  }
 },
 "nbformat": 4,
 "nbformat_minor": 4
}